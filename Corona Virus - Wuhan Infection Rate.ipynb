{
 "cells": [
  {
   "cell_type": "markdown",
   "metadata": {},
   "source": [
    "# Wuhan Corona Virus Outbreak\n",
    "\n",
    "- webscraped infected counts from national health commision via wikipedia\n",
    "- infection counts are fitted to a simple exponential distribution \n"
   ]
  },
  {
   "cell_type": "code",
   "execution_count": 87,
   "metadata": {},
   "outputs": [
    {
     "data": {
      "image/png": "[encoded data removed]",
      "text/plain": [
       "<Figure size 432x288 with 1 Axes>"
      ]
     },
     "metadata": {
      "needs_background": "light"
     },
     "output_type": "display_data"
    },
    {
     "name": "stdout",
     "output_type": "stream",
     "text": [
      "11370.19578570605 0.06113326029285198 -16088.813516036595\n",
      "76391.13030887807 23.821120015077838 0.176989730072497 -2831.885297165014\n",
      "70.61788964134556 244.57602531534886 -912.6723790342531\n"
     ]
    }
   ],
   "source": [
    "import requests\n",
    "import lxml.html as lh\n",
    "import pandas as pd\n",
    "import numpy as np\n",
    "from scipy.optimize import curve_fit\n",
    "import matplotlib.pyplot as plt\n",
    "import matplotlib.dates as mdates\n",
    "from bs4 import BeautifulSoup\n",
    "\n",
    "%matplotlib inline\n",
    "\n",
    "url = 'https://en.wikipedia.org/wiki/2019%E2%80%9320_Wuhan_coronavirus_outbreak'\n",
    "page = requests.get(url).text\n",
    "soup = BeautifulSoup(page,'lxml')\n",
    "#print(soup.prettify())\n",
    "My_table = soup.find('div',{'class':'barbox tright'})\n",
    "\n",
    "datesfinal = []\n",
    "countsfinal = []\n",
    "\n",
    "dates = My_table.findAll('td', style='padding-right:0.4em; padding-left:0.4em; width:auto')\n",
    "\n",
    "for date in dates[1:]:\n",
    "    datesfinal.append((pd.to_datetime(date.get_text())))\n",
    "    \n",
    "counts = My_table.findAll('td', colspan = '2', style='padding-left:0.4em; text-align:left; width:auto;')\n",
    "\n",
    "'''\n",
    "#Old Methods (changed because Wikipedia updates)\n",
    "for count in counts:\n",
    "    countsfinal.append(int(count.get_text()[0:count.get_text().find('(')].replace(',',''))) \n",
    "\n",
    "\n",
    "for count in counts:\n",
    "    if count.get_text().find('/') == -1:\n",
    "        countsfinal.append(int(count.get_text()[0:count.get_text().find('(')].replace(',',''))) \n",
    "    else: \n",
    "        countsfinal.append(int(count.get_text()[count.get_text().find('/')+1:count.get_text().find('(')].replace(',',''))) \n",
    "'''\n",
    "for count in counts[1:]:\n",
    "        countsfinal.append(int(count.get_text().rstrip().lstrip()[0:count.get_text().rstrip().lstrip().find('\\n')].replace(',','')))\n",
    "\n",
    "d=list(zip(datesfinal, countsfinal))\n",
    "df=pd.DataFrame(data=d, columns=['Date','Infected'])    \n",
    "\n",
    "def exponential_fit(x, a, b, c):\n",
    "    return a*np.exp(b*x) + c\n",
    "\n",
    "#sigmoid is special case of logistic function whereas:\n",
    "# L = 1, k = 1, X0 = 0\n",
    "# ref: https://stats.stackexchange.com/questions/204484/what-are-the-differences-between-logistic-function-and-sigmoid-function\n",
    "'''\n",
    "def sigmoidal_fit(x, k, x0):\n",
    "    return (1 / (1 + np.exp(-k*(x-x0))))\n",
    "'''\n",
    "\n",
    "def logistic_fit(x, L ,x0, k, b):\n",
    "    y = L / (1 + np.exp(-k*(x-x0))) + b\n",
    "    return (y)\n",
    "\n",
    "def quadratic_fit(x, a, b, c):\n",
    "    y = a*(x**2) - (b*x) + c\n",
    "    return (y)\n",
    "\n",
    "def tanh_fit(x, eta=1, phi=1):\n",
    "    y = np.tanh(eta * (x + phi))\n",
    "    return (y)\n",
    "\n",
    "x = np.linspace(1,len(df),len(df))\n",
    "y = np.array(df['Infected'])\n",
    "\n",
    "# Exponential Fit\n",
    "fitting_parameters_exp, covariance_exp = curve_fit(exponential_fit, x, y)\n",
    "a, b, c = fitting_parameters_exp\n",
    "'''\n",
    "# Sigmoidal Fit\n",
    "fitting_parameters_sig, covariance_sig = curve_fit(sigmoidal_fit, x, y, method='dogbox')\n",
    "a1, b1 = fitting_parameters_sig\n",
    "'''\n",
    "# Logistic Fit\n",
    "p0 = [max(y), np.median(x),1,min(y)] # this is an mandatory initial guess\n",
    "fitting_parameters_log, covariance_log = curve_fit(logistic_fit, x, y,p0, method='dogbox')\n",
    "a2, b2, c2, d2 = fitting_parameters_log\n",
    "\n",
    "# Quadratic Fit\n",
    "fitting_parameters_quad, covariance_quad = curve_fit(quadratic_fit, x, y)\n",
    "a3, b3, c3 = fitting_parameters_quad\n",
    "\n",
    "# Tanh Fit (WIP)\n",
    "#fitting_parameters_tanh, covariance_tanh = curve_fit(tanh_fit, x, y)\n",
    "#a4, b4 = fitting_parameters_tanh\n",
    "\n",
    "x_min = 0 \n",
    "x_max = len(df)*2\n",
    "x_fit = np.linspace(x_min, x_max, len(df)) \n",
    "\n",
    "plt.plot(x_fit, exponential_fit(x_fit, *fitting_parameters_exp), '--', label='Exp Fit')\n",
    "# plt.plot(x_fit, sigmoidal_fit(x_fit, *fitting_parameters_sig), '-', label='Sig Fit')\n",
    "plt.plot(x_fit, logistic_fit(x_fit, *fitting_parameters_log), '-', label='Log Fit')\n",
    "plt.plot(x_fit, quadratic_fit(x_fit, *fitting_parameters_quad), '-', label='Quad Fit')\n",
    "#plt.plot(x_fit, tanh_fit(x_fit, *fitting_parameters_tanh), '-', label='Tanh Fit')\n",
    "\n",
    "\n",
    "plt.plot(x, y, '.', label='RAW Data', color='k', markersize=10)\n",
    "\n",
    "plt.plot(title='Wuhan')\n",
    "plt.ylim(0, max(df['Infected'])*2)\n",
    "plt.xlim(0,len(df)*2)\n",
    "plt.tight_layout()\n",
    "plt.legend()\n",
    "\n",
    "plt.show()\n",
    "\n",
    "print(a,b,c)\n",
    "#print(a1,b1)\n",
    "print(a2,b2,c2,d2)\n",
    "print(a3,b3,c3)\n"
   ]
  },
  {
   "cell_type": "code",
   "execution_count": null,
   "metadata": {},
   "outputs": [],
   "source": [
    "\n",
    "\n"
   ]
  },
  {
   "cell_type": "code",
   "execution_count": null,
   "metadata": {},
   "outputs": [],
   "source": []
  },
  {
   "cell_type": "code",
   "execution_count": null,
   "metadata": {},
   "outputs": [],
   "source": []
  },
  {
   "cell_type": "code",
   "execution_count": 89,
   "metadata": {},
   "outputs": [
    {
     "name": "stdout",
     "output_type": "stream",
     "text": [
      "(array([ 1.13701958e+04,  6.11332603e-02, -1.60888135e+04]), array([[ 1.13838158e+07, -2.69043934e+01, -1.54750805e+07],\n",
      "       [-2.69043934e+01,  6.42562878e-05,  3.60512217e+01],\n",
      "       [-1.54750805e+07,  3.60512217e+01,  2.18085653e+07]]))\n",
      "(array([ 7.63908775e+04,  2.38210829e+01,  1.76990372e-01, -2.83186144e+03]), array([[ 9.73379732e+07,  1.21381015e+04, -2.63945737e+02,\n",
      "        -1.38376909e+07],\n",
      "       [ 1.21381015e+04,  1.76777115e+00, -3.11681779e-02,\n",
      "        -1.18458448e+03],\n",
      "       [-2.63945737e+02, -3.11681779e-02,  7.94749327e-04,\n",
      "         4.32083416e+01],\n",
      "       [-1.38376909e+07, -1.18458448e+03,  4.32083416e+01,\n",
      "         3.43896998e+06]]))\n",
      "(array([  70.61788964,  244.57602532, -912.67237903]), array([[4.63494635e+01, 1.52953234e+03, 8.66735024e+03],\n",
      "       [1.52953234e+03, 5.36263325e+04, 3.38026665e+05],\n",
      "       [8.66735024e+03, 3.38026665e+05, 2.74754999e+06]]))\n"
     ]
    }
   ],
   "source": [
    "print(curve_fit(exponential_fit, x, y))\n",
    "print(curve_fit(logistic_fit, x, y))\n",
    "print(curve_fit(quadratic_fit, x, y))\n",
    "\n"
   ]
  },
  {
   "cell_type": "code",
   "execution_count": null,
   "metadata": {},
   "outputs": [],
   "source": []
  },
  {
   "cell_type": "code",
   "execution_count": null,
   "metadata": {},
   "outputs": [],
   "source": []
  },
  {
   "cell_type": "code",
   "execution_count": null,
   "metadata": {},
   "outputs": [],
   "source": []
  },
  {
   "cell_type": "code",
   "execution_count": null,
   "metadata": {},
   "outputs": [],
   "source": []
  },
  {
   "cell_type": "code",
   "execution_count": null,
   "metadata": {},
   "outputs": [],
   "source": []
  },
  {
   "cell_type": "code",
   "execution_count": null,
   "metadata": {},
   "outputs": [],
   "source": []
  },
  {
   "cell_type": "code",
   "execution_count": null,
   "metadata": {},
   "outputs": [],
   "source": []
  },
  {
   "cell_type": "code",
   "execution_count": null,
   "metadata": {},
   "outputs": [],
   "source": []
  }
 ],
 "metadata": {
  "kernelspec": {
   "display_name": "Python 3",
   "language": "python",
   "name": "python3"
  },
  "language_info": {
   "codemirror_mode": {
    "name": "ipython",
    "version": 3
   },
   "file_extension": ".py",
   "mimetype": "text/x-python",
   "name": "python",
   "nbconvert_exporter": "python",
   "pygments_lexer": "ipython3",
   "version": "3.7.3"
  }
 },
 "nbformat": 4,
 "nbformat_minor": 2
}
